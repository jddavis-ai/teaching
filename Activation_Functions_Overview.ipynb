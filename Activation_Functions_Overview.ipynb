{
 "cells": [
  {
   "cell_type": "markdown",
   "metadata": {},
   "source": [
    "# Activation Functions in Neural Networks\n",
    "\n",
    "Activation functions are applied at the end of each neuron's computation to introduce non-linearity. Here's how they're typically represented and used."
   ]
  },
  {
   "cell_type": "markdown",
   "metadata": {},
   "source": [
    "## Where the Activation Function is Applied\n",
    "\n",
    "In each neuron:\n",
    "```\n",
    "output = activation(weighted_sum + bias)\n",
    "```\n",
    "Where:\n",
    "- `weighted_sum` = w1*x1 + w2*x2 + ... + wn*xn\n",
    "- `bias` = b\n",
    "- `activation(...)` = the non-linear function applied to the result"
   ]
  },
  {
   "cell_type": "markdown",
   "metadata": {},
   "source": [
    "## ReLU (Rectified Linear Unit)\n",
    "```\n",
    "activation(x) = max(0, x)\n",
    "```\n",
    "**Use:** Hidden layers in most deep neural networks"
   ]
  },
  {
   "cell_type": "markdown",
   "metadata": {},
   "source": [
    "## Leaky ReLU\n",
    "```\n",
    "activation(x) = x if x > 0, otherwise α * x  (α is a small constant like 0.01)\n",
    "```\n",
    "**Use:** Solves the “dying ReLU” issue by keeping gradients alive for negative inputs"
   ]
  },
  {
   "cell_type": "markdown",
   "metadata": {},
   "source": [
    "## Sigmoid\n",
    "```\n",
    "activation(x) = 1 / (1 + exp(-x))\n",
    "```\n",
    "**Use:** Output layer for binary classification"
   ]
  },
  {
   "cell_type": "markdown",
   "metadata": {},
   "source": [
    "## Tanh (Hyperbolic Tangent)\n",
    "```\n",
    "activation(x) = (exp(x) - exp(-x)) / (exp(x) + exp(-x))\n",
    "```\n",
    "**Use:** Hidden layers where zero-centered output is helpful"
   ]
  },
  {
   "cell_type": "markdown",
   "metadata": {},
   "source": [
    "## Softmax\n",
    "```\n",
    "activation(xi) = exp(xi) / sum(exp(xj))  for all j\n",
    "```\n",
    "**Use:** Output layer for multi-class classification\n",
    "\n",
    "Converts a vector of logits into a probability distribution."
   ]
  }
 ],
 "metadata": {
  "kernelspec": {
   "display_name": "Python 3",
   "language": "python",
   "name": "python3"
  },
  "language_info": {
   "name": "python",
   "version": ""
  }
 },
 "nbformat": 4,
 "nbformat_minor": 5
}
